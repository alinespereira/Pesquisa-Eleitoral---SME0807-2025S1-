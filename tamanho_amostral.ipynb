{
 "cells": [
  {
   "cell_type": "code",
   "execution_count": 4,
   "id": "cb4056ab",
   "metadata": {},
   "outputs": [],
   "source": [
    "from sympy import Eq, Idx, Sum, Symbol, Indexed, solve, print_latex"
   ]
  },
  {
   "cell_type": "code",
   "execution_count": 5,
   "id": "8bdd36b5",
   "metadata": {},
   "outputs": [],
   "source": [
    "N = Symbol('N', integer=True, positive=True)\n",
    "n = Symbol('n', integer=True, positive=True)\n",
    "\n",
    "H = Symbol('H', integer=True, positive=True)\n",
    "h = Idx('h')\n",
    "\n",
    "N_h = Indexed('N', h)\n",
    "P_h = Indexed('P', h)\n",
    "Q_h = Indexed('Q', h)\n",
    "W_h = N_h / N\n",
    "\n",
    "n_h = n * W_h\n",
    "f_h = n_h / N_h\n",
    "\n",
    "B = Symbol('B', real=True, positive=True)\n",
    "z = Symbol('z', real=True)"
   ]
  },
  {
   "cell_type": "code",
   "execution_count": 6,
   "id": "4f134cfd",
   "metadata": {},
   "outputs": [
    {
     "data": {
      "text/latex": [
       "$\\displaystyle \\sum_{h=1}^{H} \\frac{\\left(1 - \\frac{n}{N}\\right) {N}_{h}^{2} {P}_{h} {Q}_{h}}{N n \\left({N}_{h} - 1\\right)}$"
      ],
      "text/plain": [
       "Sum((1 - n/N)*N[h]**2*P[h]*Q[h]/(N*n*(N[h] - 1)), (h, 1, H))"
      ]
     },
     "execution_count": 6,
     "metadata": {},
     "output_type": "execute_result"
    }
   ],
   "source": [
    "Var_Pes = Sum(\n",
    "    W_h ** 2 * (1 - f_h) * (N_h / (N_h - 1)) * P_h * Q_h / n_h, \n",
    "    (h, 1, H)\n",
    ")\n",
    "Var_Pes"
   ]
  },
  {
   "cell_type": "code",
   "execution_count": 7,
   "id": "876a6e3b",
   "metadata": {},
   "outputs": [
    {
     "data": {
      "text/latex": [
       "$\\displaystyle \\frac{N z^{2} \\sum_{h=1}^{H} \\frac{{N}_{h}^{2} {P}_{h} {Q}_{h}}{{N}_{h} - 1}}{B^{2} N^{2} + z^{2} \\sum_{h=1}^{H} \\frac{{N}_{h}^{2} {P}_{h} {Q}_{h}}{{N}_{h} - 1}}$"
      ],
      "text/plain": [
       "N*z**2*Sum(N[h]**2*P[h]*Q[h]/(N[h] - 1), (h, 1, H))/(B**2*N**2 + z**2*Sum(N[h]**2*P[h]*Q[h]/(N[h] - 1), (h, 1, H)))"
      ]
     },
     "execution_count": 7,
     "metadata": {},
     "output_type": "execute_result"
    }
   ],
   "source": [
    "sol = solve(Eq(Var_Pes.factor(n), (B / z) ** 2), n)[0]\n",
    "sol"
   ]
  },
  {
   "cell_type": "code",
   "execution_count": 8,
   "id": "cdb1f428",
   "metadata": {},
   "outputs": [
    {
     "name": "stdout",
     "output_type": "stream",
     "text": [
      "\\frac{N z^{2} \\sum_{h=1}^{H} \\frac{{N}_{h}^{2} {P}_{h} {Q}_{h}}{{N}_{h} - 1}}{B^{2} N^{2} + z^{2} \\sum_{h=1}^{H} \\frac{{N}_{h}^{2} {P}_{h} {Q}_{h}}{{N}_{h} - 1}}\n"
     ]
    }
   ],
   "source": [
    "print_latex(sol)"
   ]
  }
 ],
 "metadata": {
  "kernelspec": {
   "display_name": ".venv",
   "language": "python",
   "name": "python3"
  },
  "language_info": {
   "codemirror_mode": {
    "name": "ipython",
    "version": 3
   },
   "file_extension": ".py",
   "mimetype": "text/x-python",
   "name": "python",
   "nbconvert_exporter": "python",
   "pygments_lexer": "ipython3",
   "version": "3.12.10"
  }
 },
 "nbformat": 4,
 "nbformat_minor": 5
}
