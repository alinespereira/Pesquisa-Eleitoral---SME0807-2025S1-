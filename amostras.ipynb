{
 "cells": [
  {
   "cell_type": "code",
   "execution_count": 1,
   "id": "1c8b4640",
   "metadata": {},
   "outputs": [],
   "source": [
    "from pathlib import Path\n",
    "\n",
    "import numpy as np\n",
    "import pandas as pd\n",
    "\n",
    "from pesquisa_eleitoral.aas import AASs"
   ]
  },
  {
   "cell_type": "code",
   "execution_count": 2,
   "id": "2dacc6d9",
   "metadata": {},
   "outputs": [],
   "source": [
    "pd.options.display.float_format = \"{:_.0f}\".format"
   ]
  },
  {
   "cell_type": "code",
   "execution_count": 3,
   "id": "c359f865",
   "metadata": {},
   "outputs": [],
   "source": [
    "DADOS: Path = Path(\".\").parent.resolve() / \"data\" / \"raw\"\n",
    "AMOSTRAS: Path = Path(\".\").parent.resolve() / \"data\" / \"sample\""
   ]
  },
  {
   "cell_type": "code",
   "execution_count": 4,
   "id": "ec814184",
   "metadata": {},
   "outputs": [],
   "source": [
    "erro_amostral = 0.02\n",
    "significancia = 0.05"
   ]
  },
  {
   "cell_type": "code",
   "execution_count": 5,
   "id": "953eef79",
   "metadata": {},
   "outputs": [],
   "source": [
    "plano = AASs(erro_amostral=erro_amostral, significancia=significancia)"
   ]
  },
  {
   "cell_type": "code",
   "execution_count": 6,
   "id": "49c7826d",
   "metadata": {},
   "outputs": [],
   "source": [
    "dfs = []\n",
    "\n",
    "for arquivo in DADOS.glob(\"*.csv\"):\n",
    "    cargo, turno, *_ = arquivo.stem.split(\"_\")\n",
    "    df = pd.read_csv(arquivo, index_col=0).assign(\n",
    "        cargo=cargo, turno=int(turno)\n",
    "    )\n",
    "    dfs.append(df)\n",
    "\n",
    "df = pd.concat(dfs)"
   ]
  },
  {
   "cell_type": "code",
   "execution_count": 9,
   "id": "bea54d1e",
   "metadata": {},
   "outputs": [
    {
     "data": {
      "text/html": [
       "<div>\n",
       "<style scoped>\n",
       "    .dataframe tbody tr th:only-of-type {\n",
       "        vertical-align: middle;\n",
       "    }\n",
       "\n",
       "    .dataframe tbody tr th {\n",
       "        vertical-align: top;\n",
       "    }\n",
       "\n",
       "    .dataframe thead th {\n",
       "        text-align: right;\n",
       "    }\n",
       "</style>\n",
       "<table border=\"1\" class=\"dataframe\">\n",
       "  <thead>\n",
       "    <tr style=\"text-align: right;\">\n",
       "      <th></th>\n",
       "      <th></th>\n",
       "      <th></th>\n",
       "      <th>N</th>\n",
       "      <th>n</th>\n",
       "    </tr>\n",
       "    <tr>\n",
       "      <th>estado</th>\n",
       "      <th>turno</th>\n",
       "      <th>cargo</th>\n",
       "      <th></th>\n",
       "      <th></th>\n",
       "    </tr>\n",
       "  </thead>\n",
       "  <tbody>\n",
       "    <tr>\n",
       "      <th rowspan=\"2\" valign=\"top\">AC</th>\n",
       "      <th rowspan=\"2\" valign=\"top\">1</th>\n",
       "      <th>Governador</th>\n",
       "      <td>455438</td>\n",
       "      <td>2389</td>\n",
       "    </tr>\n",
       "    <tr>\n",
       "      <th>Senador</th>\n",
       "      <td>455438</td>\n",
       "      <td>2389</td>\n",
       "    </tr>\n",
       "    <tr>\n",
       "      <th rowspan=\"3\" valign=\"top\">RO</th>\n",
       "      <th rowspan=\"2\" valign=\"top\">1</th>\n",
       "      <th>Governador</th>\n",
       "      <td>925763</td>\n",
       "      <td>2395</td>\n",
       "    </tr>\n",
       "    <tr>\n",
       "      <th>Senador</th>\n",
       "      <td>925763</td>\n",
       "      <td>2395</td>\n",
       "    </tr>\n",
       "    <tr>\n",
       "      <th>2</th>\n",
       "      <th>Governador</th>\n",
       "      <td>925563</td>\n",
       "      <td>2395</td>\n",
       "    </tr>\n",
       "  </tbody>\n",
       "</table>\n",
       "</div>"
      ],
      "text/plain": [
       "                              N     n\n",
       "estado turno cargo                   \n",
       "AC     1     Governador  455438  2389\n",
       "             Senador     455438  2389\n",
       "RO     1     Governador  925763  2395\n",
       "             Senador     925763  2395\n",
       "       2     Governador  925563  2395"
      ]
     },
     "execution_count": 9,
     "metadata": {},
     "output_type": "execute_result"
    }
   ],
   "source": [
    "tamanhos_amostrais = (\n",
    "    df.loc[lambda df_: df_[\"cargo\"] != \"Presidente\", :]\n",
    "    .groupby([\"estado\", \"turno\", \"cargo\"])\n",
    "    .count()\n",
    "    .rename(columns={\"nome\": \"N\"})\n",
    "    .assign(n=lambda df_: plano.tamanho_amostral(df_[\"N\"]))\n",
    "    .astype({\"N\": int, \"n\": int})\n",
    ")\n",
    "tamanhos_amostrais"
   ]
  },
  {
   "cell_type": "code",
   "execution_count": 10,
   "id": "992661b6",
   "metadata": {},
   "outputs": [
    {
     "name": "stdout",
     "output_type": "stream",
     "text": [
      "AC 1 Governador 2389\n",
      "AC 1 Senador 2389\n",
      "RO 1 Governador 2395\n",
      "RO 1 Senador 2395\n",
      "RO 2 Governador 2395\n"
     ]
    }
   ],
   "source": [
    "random_state = 789\n",
    "\n",
    "for (uf, turno, cargo), tamanho in tamanhos_amostrais.iterrows():\n",
    "    sample = (\n",
    "        df.query(\n",
    "            f\"estado == {uf!r} and turno == {turno} and cargo == {cargo!r}\"\n",
    "        )\n",
    "        .sort_values(by=\"nome\")\n",
    "        .sample(tamanho.n, replace=False, random_state=random_state)\n",
    "    )\n",
    "    sample[[\"nome\", \"estado\"]].to_csv(\n",
    "        AMOSTRAS / f\"{cargo}_{turno}_turno_{uf}.csv\"\n",
    "    )\n",
    "    print(uf, turno, cargo, sample.shape[0])"
   ]
  }
 ],
 "metadata": {
  "kernelspec": {
   "display_name": ".venv",
   "language": "python",
   "name": "python3"
  },
  "language_info": {
   "codemirror_mode": {
    "name": "ipython",
    "version": 3
   },
   "file_extension": ".py",
   "mimetype": "text/x-python",
   "name": "python",
   "nbconvert_exporter": "python",
   "pygments_lexer": "ipython3",
   "version": "3.12.10"
  }
 },
 "nbformat": 4,
 "nbformat_minor": 5
}
