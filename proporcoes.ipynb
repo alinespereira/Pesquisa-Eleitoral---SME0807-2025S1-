{
 "cells": [
  {
   "cell_type": "code",
   "execution_count": 14,
   "id": "ea2a0d8b",
   "metadata": {},
   "outputs": [],
   "source": [
    "from pathlib import Path\n",
    "\n",
    "import pandas as pd"
   ]
  },
  {
   "cell_type": "code",
   "execution_count": 15,
   "id": "2a96a156",
   "metadata": {},
   "outputs": [],
   "source": [
    "SAMPLES = Path(\"data/sample\")"
   ]
  },
  {
   "cell_type": "code",
   "execution_count": 22,
   "id": "e34a5f42",
   "metadata": {},
   "outputs": [
    {
     "name": "stdout",
     "output_type": "stream",
     "text": [
      "Governador_1_turno_RO\n",
      "nome\n",
      "Coronel Marcos Rocha    0.358664\n",
      "Marcos Rogerio          0.349061\n",
      "Léo Moraes              0.120251\n",
      "Daniel Pereira          0.084760\n",
      "Nulo                    0.057620\n",
      "Branco                  0.027975\n",
      "Pimenta de Rondonia     0.001670\n",
      "Name: proportion, dtype: float64\n",
      "Soma: 1.0000\n",
      "================================================================================\n",
      "Senador_1_turno_RO\n",
      "nome\n",
      "Jaime Bagattoli         0.309395\n",
      "Mariana Carvalho        0.287265\n",
      "Jaqueline Cassol        0.105637\n",
      "Expedito Junior         0.094363\n",
      "Nulo                    0.077662\n",
      "Acir Gurgacz            0.066388\n",
      "Branco                  0.048017\n",
      "Pastor Josinelio        0.007098\n",
      "Dra Rosangela Lázaro    0.004175\n",
      "Name: proportion, dtype: float64\n",
      "Soma: 1.0000\n",
      "================================================================================\n",
      "Governador_1_turno_AC\n",
      "nome\n",
      "Gladson Cameli      0.530347\n",
      "Jorge Viana         0.226455\n",
      "Mara Rocha          0.105902\n",
      "Petecão             0.061113\n",
      "Nulo                0.046882\n",
      "Branco              0.020511\n",
      "Marcio Bittar       0.006697\n",
      "Professor Nilson    0.001256\n",
      "David Hall          0.000837\n",
      "Name: proportion, dtype: float64\n",
      "Soma: 1.0000\n",
      "================================================================================\n",
      "Senador_1_turno_AC\n",
      "nome\n",
      "Alan Rick             0.336542\n",
      "Ney Amorim            0.158644\n",
      "Dr. Jenilson Leite    0.150272\n",
      "Nazaré Araújo         0.092089\n",
      "Marcia Bittar         0.089159\n",
      "Dra. Vanda Milani     0.066974\n",
      "Nulo                  0.060695\n",
      "Branco                0.039766\n",
      "Sanderson Moura       0.004186\n",
      "Dimas Sandas          0.001674\n",
      "Name: proportion, dtype: float64\n",
      "Soma: 1.0000\n",
      "================================================================================\n",
      "Governador_2_turno_RO\n",
      "nome\n",
      "Coronel Marcos Rocha    0.510647\n",
      "Marcos Rogério          0.439666\n",
      "Nulos                   0.031315\n",
      "Brancos                 0.018372\n",
      "Name: proportion, dtype: float64\n",
      "Soma: 1.0000\n",
      "================================================================================\n"
     ]
    }
   ],
   "source": [
    "for file in SAMPLES.glob(\"*.csv\"):\n",
    "    df = pd.read_csv(file, index_col=0, dtype='category')\n",
    "    print(file.stem)\n",
    "    print(df[\"nome\"].value_counts(normalize=True))\n",
    "    print(f'Soma: {df[\"nome\"].value_counts(normalize=True).sum():.4f}')\n",
    "    print(\"=\" * 80)"
   ]
  }
 ],
 "metadata": {
  "kernelspec": {
   "display_name": ".venv",
   "language": "python",
   "name": "python3"
  },
  "language_info": {
   "codemirror_mode": {
    "name": "ipython",
    "version": 3
   },
   "file_extension": ".py",
   "mimetype": "text/x-python",
   "name": "python",
   "nbconvert_exporter": "python",
   "pygments_lexer": "ipython3",
   "version": "3.12.10"
  }
 },
 "nbformat": 4,
 "nbformat_minor": 5
}
