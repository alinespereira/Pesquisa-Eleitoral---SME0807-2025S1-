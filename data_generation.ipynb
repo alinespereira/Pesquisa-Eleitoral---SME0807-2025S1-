{
 "cells": [
  {
   "cell_type": "code",
   "execution_count": 2,
   "id": "ca07e6b6",
   "metadata": {},
   "outputs": [],
   "source": [
    "import numpy as np\n",
    "import pandas as pd"
   ]
  },
  {
   "cell_type": "code",
   "execution_count": 7,
   "id": "823612e6",
   "metadata": {},
   "outputs": [],
   "source": [
    "results = {\n",
    "    \"Coronel Marcos Rocha\": 458_370,\n",
    "    \"Marcos Rogério\": 415_278,\n",
    "    \"Brancos\": 20_103,\n",
    "    \"Nulos\": 31_812\n",
    "}"
   ]
  },
  {
   "cell_type": "code",
   "execution_count": 12,
   "id": "371db75e",
   "metadata": {},
   "outputs": [],
   "source": [
    "pd.DataFrame({\n",
    "    \"nome\": [\n",
    "        candidato\n",
    "        for candidato, votos in results.items()\n",
    "        for _ in range(votos)\n",
    "    ],\n",
    "    \"estado\": [\n",
    "        \"RO\"\n",
    "        for _, votos in results.items()\n",
    "        for _ in range(votos)\n",
    "    ]\n",
    "}).to_csv(\"data/Governador_2_turno_AC_RO.csv\")"
   ]
  }
 ],
 "metadata": {
  "kernelspec": {
   "display_name": ".venv",
   "language": "python",
   "name": "python3"
  },
  "language_info": {
   "codemirror_mode": {
    "name": "ipython",
    "version": 3
   },
   "file_extension": ".py",
   "mimetype": "text/x-python",
   "name": "python",
   "nbconvert_exporter": "python",
   "pygments_lexer": "ipython3",
   "version": "3.12.10"
  }
 },
 "nbformat": 4,
 "nbformat_minor": 5
}
